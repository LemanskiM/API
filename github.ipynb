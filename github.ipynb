{
 "cells": [
  {
   "cell_type": "code",
   "execution_count": null,
   "id": "7232d007",
   "metadata": {},
   "outputs": [],
   "source": [
    "from github import Github\n",
    "\n",
    "#User name\n",
    "USERNAME = \"\"\n",
    "user = g.get_user(USERNAME)\n",
    "#API_KEY\n",
    "g = Github(\"\")\n",
    "\n",
    "for repo in user.get_repos():\n",
    "    print(repo.name)\n",
    "    print(repo.size)\n",
    "    print(repo.get_contributors().totalCount)\n",
    "    print(list(repo.get_branches()))\n",
    "    x = list(repo.get_branches())\n",
    "    if len(x)>0:\n",
    "        print(repo.get_branch(\"master\").protected)"
   ]
  }
 ],
 "metadata": {
  "kernelspec": {
   "display_name": "Python 3 (ipykernel)",
   "language": "python",
   "name": "python3"
  },
  "language_info": {
   "codemirror_mode": {
    "name": "ipython",
    "version": 3
   },
   "file_extension": ".py",
   "mimetype": "text/x-python",
   "name": "python",
   "nbconvert_exporter": "python",
   "pygments_lexer": "ipython3",
   "version": "3.9.12"
  }
 },
 "nbformat": 4,
 "nbformat_minor": 5
}
